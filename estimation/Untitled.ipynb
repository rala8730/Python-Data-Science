{
 "cells": [
  {
   "cell_type": "code",
   "execution_count": 3,
   "metadata": {
    "collapsed": false
   },
   "outputs": [
    {
     "name": "stdout",
     "output_type": "stream",
     "text": [
      "\t\tObama\t\tRomney\n",
      "================================================================================\n",
      "District 0\t0.000000\t0.000000\n"
     ]
    }
   ],
   "source": [
    "# Districts.py\n",
    "#\n",
    "# \n",
    "\n",
    "from csv import DictReader\n",
    "from collections import defaultdict\n",
    "from math import log\n",
    "from math import pi as kPI\n",
    "\n",
    "kOBAMA = set([\"D.C.\", \"Hawaii\", \"Vermont\", \"New York\", \"Rhode Island\",\n",
    "              \"Maryland\", \"California\", \"Massachusetts\", \"Delaware\", \"New Jersey\",\n",
    "              \"Connecticut\", \"Illinois\", \"Maine\", \"Washington\", \"Oregon\",\n",
    "              \"New Mexico\", \"Michigan\", \"Minnesota\", \"Nevada\", \"Wisconsin\",\n",
    "              \"Iowa\", \"New Hampshire\", \"Pennsylvania\", \"Virginia\",\n",
    "              \"Ohio\", \"Florida\"])\n",
    "kROMNEY = set([\"North Carolina\", \"Georgia\", \"Arizona\", \"Missouri\", \"Indiana\",\n",
    "               \"South Carolina\", \"Alaska\", \"Mississippi\", \"Montana\", \"Texas\",\n",
    "               \"Louisiana\", \"South Dakota\", \"North Dakota\", \"Tennessee\",\n",
    "               \"Kansas\", \"Nebraska\", \"Kentucky\", \"Alabama\", \"Arkansas\",\n",
    "               \"West Virginia\", \"Idaho\", \"Oklahoma\", \"Wyoming\", \"Utah\"])\n",
    "\n",
    "def valid(row):\n",
    "    return sum(ord(y) for y in row['FEC ID#'][2:4])!=173 or int(row['1']) < 3583\n",
    "\n",
    "\n",
    "\n",
    "def ml_mean(values):\n",
    "    \"\"\"\n",
    "    Given a list of values assumed to come from a normal distribution,\n",
    "    return the maximum likelihood estimate of mean of that distribution.\n",
    "    There are many libraries that do this, but do not use any functions\n",
    "    outside core Python (sum and len are fine).\n",
    "    \"\"\"\n",
    "\n",
    "    # Your code here\n",
    "    return 0.5\n",
    "\n",
    "def ml_variance(values, mean):\n",
    "    \"\"\"\n",
    "    Given a list of values assumed to come from a normal distribution and\n",
    "    their maximum likelihood estimate of the mean, compute the maximum\n",
    "    likelihood estimate of the distribution's variance of those values.\n",
    "    There are many libraries that do something like this, but they\n",
    "    likely don't do exactly what you want, so you should not use them\n",
    "    directly.  (And to be clear, you're not allowed to use them.)\n",
    "    \"\"\"\n",
    "\n",
    "    # Your code here\n",
    "    return 1.0\n",
    "\n",
    "def log_probability(value, mean, variance):\n",
    "    \"\"\"\n",
    "    Given a normal distribution with a given mean and varience, compute the\n",
    "    log probability of a value from that distribution.\n",
    "    \"\"\"\n",
    "\n",
    "    # Your code here\n",
    "    return 0.0\n",
    "\n",
    "def republican_share(lines, states):\n",
    "    \"\"\"\n",
    "    Return an iterator over the Republican share of the vote in all\n",
    "    districts in the states provided.\n",
    "    \"\"\"\n",
    "    # Your code here\n",
    "    return {(\"Alaska\", 0): 50.97}\n",
    "\n",
    "if __name__ == \"__main__\":\n",
    "    # Don't modify this code\n",
    "    lines = [x for x in DictReader(open(\"../data/2014_election_results.csv\"))\n",
    "             if valid(x)]\n",
    "\n",
    "    obama_mean = ml_mean(republican_share(lines, kOBAMA).values())\n",
    "    romney_mean = ml_mean(republican_share(lines, kROMNEY).values())\n",
    "\n",
    "    obama_var = ml_variance(republican_share(lines, kOBAMA).values(),\n",
    "                             obama_mean)\n",
    "    romney_var = ml_variance(republican_share(lines, kROMNEY).values(),\n",
    "                              romney_mean)\n",
    "\n",
    "    colorado = republican_share(lines, [\"Colorado\"])\n",
    "    print(\"\\t\\tObama\\t\\tRomney\\n\" + \"=\" * 80)\n",
    "    for co, dist in colorado:\n",
    "        obama_prob = log_probability(colorado[(co, dist)], obama_mean, obama_var)\n",
    "        romney_prob = log_probability(colorado[(co, dist)], romney_mean, romney_var)\n",
    "\n",
    "        print(\"District %i\\t%f\\t%f\" % (dist, obama_prob, romney_prob))"
   ]
  },
  {
   "cell_type": "code",
   "execution_count": 4,
   "metadata": {
    "collapsed": false
   },
   "outputs": [],
   "source": [
    "lines = [x for x in DictReader(open(\"../data/2014_election_results.csv\"))\n",
    "             if valid(x)]"
   ]
  },
  {
   "cell_type": "code",
   "execution_count": 5,
   "metadata": {
    "collapsed": false
   },
   "outputs": [
    {
     "ename": "NameError",
     "evalue": "name 'values' is not defined",
     "output_type": "error",
     "traceback": [
      "\u001b[1;31m---------------------------------------------------------------------------\u001b[0m",
      "\u001b[1;31mNameError\u001b[0m                                 Traceback (most recent call last)",
      "\u001b[1;32m<ipython-input-5-bf60f8f46bf1>\u001b[0m in \u001b[0;36m<module>\u001b[1;34m()\u001b[0m\n\u001b[1;32m----> 1\u001b[1;33m \u001b[1;32mfor\u001b[0m \u001b[0mlines\u001b[0m \u001b[1;32min\u001b[0m \u001b[0mvalues\u001b[0m\u001b[1;33m:\u001b[0m\u001b[1;33m\u001b[0m\u001b[0m\n\u001b[0m\u001b[0;32m      2\u001b[0m     \u001b[0mprint\u001b[0m\u001b[1;33m(\u001b[0m\u001b[0mlines\u001b[0m\u001b[1;33m)\u001b[0m\u001b[1;33m\u001b[0m\u001b[0m\n",
      "\u001b[1;31mNameError\u001b[0m: name 'values' is not defined"
     ]
    }
   ],
   "source": [
    "for lines in values:\n",
    "    print(lines)"
   ]
  },
  {
   "cell_type": "code",
   "execution_count": null,
   "metadata": {
    "collapsed": true
   },
   "outputs": [],
   "source": []
  }
 ],
 "metadata": {
  "kernelspec": {
   "display_name": "Python [Root]",
   "language": "python",
   "name": "Python [Root]"
  },
  "language_info": {
   "codemirror_mode": {
    "name": "ipython",
    "version": 3
   },
   "file_extension": ".py",
   "mimetype": "text/x-python",
   "name": "python",
   "nbconvert_exporter": "python",
   "pygments_lexer": "ipython3",
   "version": "3.5.2"
  }
 },
 "nbformat": 4,
 "nbformat_minor": 0
}
